{
 "cells": [
  {
   "cell_type": "markdown",
   "id": "edab8172-7417-4399-a8eb-4a8c49c4a8a5",
   "metadata": {},
   "source": [
    "## Hello World"
   ]
  },
  {
   "cell_type": "code",
   "execution_count": 3,
   "id": "69c104ff-84d7-4e3d-83f4-17afd79d4c81",
   "metadata": {},
   "outputs": [
    {
     "name": "stdout",
     "output_type": "stream",
     "text": [
      "Hello World\n"
     ]
    }
   ],
   "source": [
    "print(\"Hello World\")"
   ]
  },
  {
   "cell_type": "code",
   "execution_count": 7,
   "id": "f49039b0-f9a4-4afc-b984-b0554a7da111",
   "metadata": {},
   "outputs": [],
   "source": [
    "x=10"
   ]
  },
  {
   "cell_type": "code",
   "execution_count": 8,
   "id": "10e09240-900b-4aad-b74d-19670beda25d",
   "metadata": {},
   "outputs": [
    {
     "name": "stdout",
     "output_type": "stream",
     "text": [
      "10\n"
     ]
    }
   ],
   "source": [
    "print(x)\n"
   ]
  },
  {
   "cell_type": "code",
   "execution_count": 9,
   "id": "c49011ea-8ffb-4672-bb38-ee9c844f0764",
   "metadata": {},
   "outputs": [
    {
     "data": {
      "text/plain": [
       "10"
      ]
     },
     "execution_count": 9,
     "metadata": {},
     "output_type": "execute_result"
    }
   ],
   "source": [
    "x"
   ]
  },
  {
   "cell_type": "code",
   "execution_count": 13,
   "id": "0706d174-0ae4-4ebf-ad09-8efa7200a70e",
   "metadata": {},
   "outputs": [
    {
     "name": "stdout",
     "output_type": "stream",
     "text": [
      "Ravi's father is a \"vendor\"\n"
     ]
    }
   ],
   "source": [
    "print('''Ravi's father is a \"vendor\"''')"
   ]
  },
  {
   "cell_type": "markdown",
   "id": "cd1098c8-9706-4eed-80da-b729eb52225a",
   "metadata": {},
   "source": [
    "## Variables"
   ]
  },
  {
   "cell_type": "code",
   "execution_count": 14,
   "id": "24290ffb-b359-4ada-928b-26eb2044986d",
   "metadata": {},
   "outputs": [
    {
     "data": {
      "text/plain": [
       "int"
      ]
     },
     "execution_count": 14,
     "metadata": {},
     "output_type": "execute_result"
    }
   ],
   "source": [
    "type(x)"
   ]
  },
  {
   "cell_type": "code",
   "execution_count": 15,
   "id": "73584219-aaba-4a8d-bc21-73dc8db82735",
   "metadata": {},
   "outputs": [],
   "source": [
    "x=10.2"
   ]
  },
  {
   "cell_type": "code",
   "execution_count": 16,
   "id": "2dd1a70c-2409-4d96-a693-68e4bb4ac0f2",
   "metadata": {},
   "outputs": [
    {
     "data": {
      "text/plain": [
       "float"
      ]
     },
     "execution_count": 16,
     "metadata": {},
     "output_type": "execute_result"
    }
   ],
   "source": [
    "type(x)"
   ]
  },
  {
   "cell_type": "code",
   "execution_count": 18,
   "id": "cb7855b3-b416-4ae4-a434-330b9e19024d",
   "metadata": {},
   "outputs": [
    {
     "data": {
      "text/plain": [
       "10"
      ]
     },
     "execution_count": 18,
     "metadata": {},
     "output_type": "execute_result"
    }
   ],
   "source": [
    "x=int(x)\n",
    "x"
   ]
  },
  {
   "cell_type": "code",
   "execution_count": 19,
   "id": "00e68a77-1bbd-4f93-922a-6606dff874dc",
   "metadata": {},
   "outputs": [
    {
     "ename": "SyntaxError",
     "evalue": "invalid decimal literal (784211426.py, line 1)",
     "output_type": "error",
     "traceback": [
      "\u001b[1;36m  Cell \u001b[1;32mIn[19], line 1\u001b[1;36m\u001b[0m\n\u001b[1;33m    1x=20\u001b[0m\n\u001b[1;37m    ^\u001b[0m\n\u001b[1;31mSyntaxError\u001b[0m\u001b[1;31m:\u001b[0m invalid decimal literal\n"
     ]
    }
   ],
   "source": [
    "1x=20"
   ]
  },
  {
   "cell_type": "code",
   "execution_count": 20,
   "id": "b6544d7f-0fe4-450b-bfd0-e6fcc43a53a6",
   "metadata": {},
   "outputs": [],
   "source": [
    "_1x=30"
   ]
  },
  {
   "cell_type": "markdown",
   "id": "8c17ddf6-46ef-40c9-bf96-030b80ec3bd0",
   "metadata": {},
   "source": [
    "## comments\n",
    "\n"
   ]
  },
  {
   "cell_type": "code",
   "execution_count": 23,
   "id": "55e49297-5cfc-4a0b-aeae-805a1e654dc1",
   "metadata": {},
   "outputs": [
    {
     "data": {
      "text/plain": [
       "15"
      ]
     },
     "execution_count": 23,
     "metadata": {},
     "output_type": "execute_result"
    }
   ],
   "source": [
    "#sum  of a and b\n",
    "\n",
    "'''\n",
    "sum of a and b\n",
    "in python program'''\n",
    "\n",
    "a=10\n",
    "b=5\n",
    "c=a+b\n",
    "c"
   ]
  },
  {
   "cell_type": "markdown",
   "id": "ac15ff1f-83dd-4db2-81fa-7e4cfa2a8642",
   "metadata": {},
   "source": [
    "## Data types"
   ]
  },
  {
   "cell_type": "code",
   "execution_count": 26,
   "id": "2ef4bd0c-7f75-404e-b7fd-1f198157d488",
   "metadata": {},
   "outputs": [],
   "source": [
    "a=10"
   ]
  },
  {
   "cell_type": "code",
   "execution_count": 27,
   "id": "89413a77-b477-411a-a75d-2e86a1aa47d4",
   "metadata": {},
   "outputs": [],
   "source": [
    "b=10.2"
   ]
  },
  {
   "cell_type": "code",
   "execution_count": 28,
   "id": "7ac59920-2c1d-4326-bcd4-51777c139331",
   "metadata": {},
   "outputs": [],
   "source": [
    "c=3+5j"
   ]
  },
  {
   "cell_type": "code",
   "execution_count": 34,
   "id": "a958b9d1-0218-472b-bf1a-996635598d66",
   "metadata": {},
   "outputs": [
    {
     "data": {
      "text/plain": [
       "True"
      ]
     },
     "execution_count": 34,
     "metadata": {},
     "output_type": "execute_result"
    }
   ],
   "source": [
    "(1==1)"
   ]
  },
  {
   "cell_type": "code",
   "execution_count": 36,
   "id": "b9e0607e-3e10-41c8-9ad3-b47a6b01c7e0",
   "metadata": {},
   "outputs": [],
   "source": [
    "Name=\"samsutheen\"\n"
   ]
  },
  {
   "cell_type": "code",
   "execution_count": 37,
   "id": "3f8a9413-6b6d-41ef-ba30-98ad04260700",
   "metadata": {},
   "outputs": [
    {
     "data": {
      "text/plain": [
       "'samsutheen'"
      ]
     },
     "execution_count": 37,
     "metadata": {},
     "output_type": "execute_result"
    }
   ],
   "source": [
    "Name"
   ]
  },
  {
   "cell_type": "code",
   "execution_count": 38,
   "id": "f2545ec5-2ab9-45d0-8fcc-d869bdaf78f7",
   "metadata": {},
   "outputs": [
    {
     "data": {
      "text/plain": [
       "str"
      ]
     },
     "execution_count": 38,
     "metadata": {},
     "output_type": "execute_result"
    }
   ],
   "source": [
    "type(Name)\n"
   ]
  },
  {
   "cell_type": "code",
   "execution_count": 39,
   "id": "af8f35a7-44d2-4890-9a58-aac4c431b906",
   "metadata": {},
   "outputs": [
    {
     "data": {
      "text/plain": [
       "complex"
      ]
     },
     "execution_count": 39,
     "metadata": {},
     "output_type": "execute_result"
    }
   ],
   "source": [
    "type(c)"
   ]
  },
  {
   "cell_type": "code",
   "execution_count": 2,
   "id": "d61b2142-c6c0-47c3-b376-331490be50c8",
   "metadata": {},
   "outputs": [],
   "source": [
    "Name=\"SAMSUTHEEN \"\n"
   ]
  },
  {
   "cell_type": "code",
   "execution_count": 3,
   "id": "cc835266-cbcc-4949-aed6-88d320ae0a43",
   "metadata": {},
   "outputs": [
    {
     "data": {
      "text/plain": [
       "'S'"
      ]
     },
     "execution_count": 3,
     "metadata": {},
     "output_type": "execute_result"
    }
   ],
   "source": [
    "Name[3]"
   ]
  },
  {
   "cell_type": "code",
   "execution_count": 5,
   "id": "c6fd1fb8-93a7-49f0-a26f-dc842c98f978",
   "metadata": {},
   "outputs": [
    {
     "data": {
      "text/plain": [
       "'S'"
      ]
     },
     "execution_count": 5,
     "metadata": {},
     "output_type": "execute_result"
    }
   ],
   "source": [
    "Name[0]"
   ]
  },
  {
   "cell_type": "code",
   "execution_count": 7,
   "id": "2b7eca93-8f33-439e-aa4b-b582b82fd57d",
   "metadata": {},
   "outputs": [
    {
     "data": {
      "text/plain": [
       "'SAMSUTHEEN'"
      ]
     },
     "execution_count": 7,
     "metadata": {},
     "output_type": "execute_result"
    }
   ],
   "source": [
    "Name[0:10]"
   ]
  },
  {
   "cell_type": "markdown",
   "id": "62bda96f-3410-4bb2-8c2e-72c3274a5937",
   "metadata": {},
   "source": [
    "## concat"
   ]
  },
  {
   "cell_type": "code",
   "execution_count": 4,
   "id": "009eeb9e-4d79-457f-8d91-020d4a2e8a87",
   "metadata": {},
   "outputs": [
    {
     "data": {
      "text/plain": [
       "'arunkumar'"
      ]
     },
     "execution_count": 4,
     "metadata": {},
     "output_type": "execute_result"
    }
   ],
   "source": [
    "first_name=\"arun\"\n",
    "last_name=\"kumar\"\n",
    "full_name=first_name + last_name\n",
    "full_name"
   ]
  },
  {
   "cell_type": "code",
   "execution_count": 5,
   "id": "5d5f33a6-6984-4dc7-a83e-6f76af6fc92c",
   "metadata": {},
   "outputs": [],
   "source": [
    "full_name=first_name+ \" \" +last_name"
   ]
  },
  {
   "cell_type": "code",
   "execution_count": 6,
   "id": "109cd4b4-2332-442f-830d-63b05ba48f37",
   "metadata": {},
   "outputs": [
    {
     "data": {
      "text/plain": [
       "'arun kumar'"
      ]
     },
     "execution_count": 6,
     "metadata": {},
     "output_type": "execute_result"
    }
   ],
   "source": [
    "full_name"
   ]
  },
  {
   "cell_type": "markdown",
   "id": "8fd5d318-3b9d-4a93-8ffa-cf67bbfffa62",
   "metadata": {},
   "source": [
    "## string methos"
   ]
  },
  {
   "cell_type": "code",
   "execution_count": 7,
   "id": "545f843e-99cc-4626-9aa9-1353100ce0da",
   "metadata": {},
   "outputs": [],
   "source": [
    "full_name=full_name.upper()"
   ]
  },
  {
   "cell_type": "code",
   "execution_count": 8,
   "id": "3c003c86-9919-4546-a5e7-46cdbb105303",
   "metadata": {},
   "outputs": [
    {
     "data": {
      "text/plain": [
       "'ARUN KUMAR'"
      ]
     },
     "execution_count": 8,
     "metadata": {},
     "output_type": "execute_result"
    }
   ],
   "source": [
    "full_name"
   ]
  },
  {
   "cell_type": "code",
   "execution_count": 16,
   "id": "be2f4a12-fd16-4e38-ac13-a12d3825189b",
   "metadata": {},
   "outputs": [
    {
     "data": {
      "text/plain": [
       "'Arun kumar'"
      ]
     },
     "execution_count": 16,
     "metadata": {},
     "output_type": "execute_result"
    }
   ],
   "source": [
    "full_name.capitalize()"
   ]
  },
  {
   "cell_type": "code",
   "execution_count": 27,
   "id": "763df6fb-f73e-4eda-af2c-90b05de1e42e",
   "metadata": {},
   "outputs": [
    {
     "ename": "TypeError",
     "evalue": "count() takes at least 1 argument (0 given)",
     "output_type": "error",
     "traceback": [
      "\u001b[1;31m---------------------------------------------------------------------------\u001b[0m",
      "\u001b[1;31mTypeError\u001b[0m                                 Traceback (most recent call last)",
      "Cell \u001b[1;32mIn[27], line 1\u001b[0m\n\u001b[1;32m----> 1\u001b[0m \u001b[43mfull_name\u001b[49m\u001b[38;5;241;43m.\u001b[39;49m\u001b[43mcount\u001b[49m\u001b[43m(\u001b[49m\u001b[43m)\u001b[49m\n",
      "\u001b[1;31mTypeError\u001b[0m: count() takes at least 1 argument (0 given)"
     ]
    }
   ],
   "source": [
    "full_name."
   ]
  },
  {
   "cell_type": "code",
   "execution_count": 17,
   "id": "b789bc32-87a0-46db-a21b-9f6ad455caf8",
   "metadata": {},
   "outputs": [
    {
     "data": {
      "text/plain": [
       "'ARUN KUMAR'"
      ]
     },
     "execution_count": 17,
     "metadata": {},
     "output_type": "execute_result"
    }
   ],
   "source": [
    "full_name.center(1)"
   ]
  },
  {
   "cell_type": "code",
   "execution_count": null,
   "id": "7909e102-92d0-47bb-9655-c12ead95b5ea",
   "metadata": {},
   "outputs": [],
   "source": [
    "#Returns a centred string"
   ]
  },
  {
   "cell_type": "code",
   "execution_count": 18,
   "id": "bc71193c-491b-4d8b-b759-62539443add7",
   "metadata": {},
   "outputs": [
    {
     "data": {
      "text/plain": [
       "False"
      ]
     },
     "execution_count": 18,
     "metadata": {},
     "output_type": "execute_result"
    }
   ],
   "source": [
    "full_name.islower() #returns true if all strings are lower"
   ]
  },
  {
   "cell_type": "code",
   "execution_count": 20,
   "id": "6a62ed60-9f7d-427c-b277-254195bf4807",
   "metadata": {},
   "outputs": [
    {
     "data": {
      "text/plain": [
       "True"
      ]
     },
     "execution_count": 20,
     "metadata": {},
     "output_type": "execute_result"
    }
   ],
   "source": [
    "full_name.isupper() #returns true if all strings are upper"
   ]
  },
  {
   "cell_type": "code",
   "execution_count": 37,
   "id": "f8d300ce-a173-45e8-8b5e-3f9ff80e287b",
   "metadata": {},
   "outputs": [
    {
     "data": {
      "text/plain": [
       "'arun kumar'"
      ]
     },
     "execution_count": 37,
     "metadata": {},
     "output_type": "execute_result"
    }
   ],
   "source": [
    "full_name.casefold() #make all txt as lower"
   ]
  },
  {
   "cell_type": "code",
   "execution_count": 42,
   "id": "a61eaeff-379e-4417-9c72-634c540543d9",
   "metadata": {},
   "outputs": [
    {
     "data": {
      "text/plain": [
       "2"
      ]
     },
     "execution_count": 42,
     "metadata": {},
     "output_type": "execute_result"
    }
   ],
   "source": [
    "full_name.count('A')"
   ]
  },
  {
   "cell_type": "code",
   "execution_count": 40,
   "id": "91702f82-45bf-48d2-bdff-c59a88f6bba6",
   "metadata": {},
   "outputs": [],
   "source": [
    "a=\"hbibibibi\""
   ]
  },
  {
   "cell_type": "code",
   "execution_count": 41,
   "id": "a5e0e891-5e85-4934-8817-886635bc3fb3",
   "metadata": {},
   "outputs": [
    {
     "data": {
      "text/plain": [
       "4"
      ]
     },
     "execution_count": 41,
     "metadata": {},
     "output_type": "execute_result"
    }
   ],
   "source": [
    "a.count('b') #to count a string letter or a word"
   ]
  },
  {
   "cell_type": "code",
   "execution_count": 43,
   "id": "a205f83e-98f0-45aa-ab2e-64980fc948db",
   "metadata": {
    "scrolled": true
   },
   "outputs": [
    {
     "data": {
      "text/plain": [
       "b'hbibibibi'"
      ]
     },
     "execution_count": 43,
     "metadata": {},
     "output_type": "execute_result"
    }
   ],
   "source": [
    "a.encode()"
   ]
  },
  {
   "cell_type": "code",
   "execution_count": 46,
   "id": "6ed80ef8-af2b-4b04-b00c-7a80411ad6fe",
   "metadata": {},
   "outputs": [
    {
     "data": {
      "text/plain": [
       "2"
      ]
     },
     "execution_count": 46,
     "metadata": {},
     "output_type": "execute_result"
    }
   ],
   "source": [
    "a.find('i') #finds the position of the finding string"
   ]
  },
  {
   "cell_type": "code",
   "execution_count": 49,
   "id": "afd90804-ba79-450e-91be-1b1ed2aae2bf",
   "metadata": {},
   "outputs": [
    {
     "data": {
      "text/plain": [
       "'hbibibibi'"
      ]
     },
     "execution_count": 49,
     "metadata": {},
     "output_type": "execute_result"
    }
   ],
   "source": [
    "a.format(\"bi\")"
   ]
  },
  {
   "cell_type": "code",
   "execution_count": 54,
   "id": "6d4372cd-3ce9-4bc7-8eaf-d1c4a50f7568",
   "metadata": {},
   "outputs": [],
   "source": [
    "full_name=\"{} is a good boy\""
   ]
  },
  {
   "cell_type": "code",
   "execution_count": 56,
   "id": "646c5c36-f6a7-45e9-8d3b-dfa8a7245f13",
   "metadata": {},
   "outputs": [
    {
     "data": {
      "text/plain": [
       "'Ram is a good boy'"
      ]
     },
     "execution_count": 56,
     "metadata": {},
     "output_type": "execute_result"
    }
   ],
   "source": [
    "full_name.format(\"Ram\") #fotmat used to replace the unspecified strings"
   ]
  },
  {
   "cell_type": "code",
   "execution_count": 58,
   "id": "23b3e917-8cbf-4366-99cd-156bf146a90d",
   "metadata": {},
   "outputs": [
    {
     "data": {
      "text/plain": [
       "1"
      ]
     },
     "execution_count": 58,
     "metadata": {},
     "output_type": "execute_result"
    }
   ],
   "source": [
    "a.index('b')"
   ]
  },
  {
   "cell_type": "code",
   "execution_count": 59,
   "id": "e751bd0b-2898-48af-aa5d-c8ab1674b6d5",
   "metadata": {},
   "outputs": [
    {
     "data": {
      "text/plain": [
       "False"
      ]
     },
     "execution_count": 59,
     "metadata": {},
     "output_type": "execute_result"
    }
   ],
   "source": [
    "a.istitle() #returns is the words are startinf with upper case"
   ]
  },
  {
   "cell_type": "code",
   "execution_count": 70,
   "id": "f966a8a7-bb4d-47c6-acc6-5aeb18cd4eef",
   "metadata": {},
   "outputs": [
    {
     "data": {
      "text/plain": [
       "'h#b#i#b#i#b#i#b#i'"
      ]
     },
     "execution_count": 70,
     "metadata": {},
     "output_type": "execute_result"
    }
   ],
   "source": [
    "b='#'     #used to join two seperate variable \n",
    "b=b.join(a)\n",
    "b"
   ]
  },
  {
   "cell_type": "code",
   "execution_count": 71,
   "id": "97757671-6227-4863-9a2b-5c4a52d0a648",
   "metadata": {},
   "outputs": [
    {
     "data": {
      "text/plain": [
       "'{} Is A Good Boy'"
      ]
     },
     "execution_count": 71,
     "metadata": {},
     "output_type": "execute_result"
    }
   ],
   "source": [
    "full_name.title() #similar to capitalize"
   ]
  },
  {
   "cell_type": "code",
   "execution_count": null,
   "id": "c4d312ac-da50-49e8-a476-841e3364f916",
   "metadata": {},
   "outputs": [],
   "source": []
  },
  {
   "cell_type": "code",
   "execution_count": null,
   "id": "b9517d20-7bf5-470e-8a74-6f3b077e4e24",
   "metadata": {},
   "outputs": [],
   "source": []
  }
 ],
 "metadata": {
  "kernelspec": {
   "display_name": "Python 3 (ipykernel)",
   "language": "python",
   "name": "python3"
  },
  "language_info": {
   "codemirror_mode": {
    "name": "ipython",
    "version": 3
   },
   "file_extension": ".py",
   "mimetype": "text/x-python",
   "name": "python",
   "nbconvert_exporter": "python",
   "pygments_lexer": "ipython3",
   "version": "3.12.3"
  }
 },
 "nbformat": 4,
 "nbformat_minor": 5
}
