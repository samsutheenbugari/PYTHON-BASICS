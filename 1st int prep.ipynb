{
 "cells": [
  {
   "cell_type": "code",
   "execution_count": 5,
   "id": "2c1a3f92-6a78-4471-b53c-dbd1d4188642",
   "metadata": {},
   "outputs": [],
   "source": [
    "import pandas as pd\n",
    "import numpy as np\n",
    "import matplotlib.pyplot as plt\n",
    "import seaborn as sns\n",
    "import scipy\n",
    "import sklearn\n"
   ]
  },
  {
   "cell_type": "markdown",
   "id": "339c6389-732e-4466-b15b-3e0f320b417f",
   "metadata": {},
   "source": [
    "# print"
   ]
  },
  {
   "cell_type": "code",
   "execution_count": 18,
   "id": "1e8232fd-d2b7-497b-8ef2-3994fbba505d",
   "metadata": {},
   "outputs": [
    {
     "name": "stdout",
     "output_type": "stream",
     "text": [
      "\n",
      "A\n",
      "A\n",
      "B\n",
      "B+C\n",
      "5\n",
      "A 5\n"
     ]
    }
   ],
   "source": [
    "\n",
    "print(\"\")\n",
    "\n",
    "print(\"A\")\n",
    "\n",
    "print('A')\n",
    "\n",
    "B=2\n",
    "print(\"B\")\n",
    "\n",
    "C=3\n",
    "print(\"B+C\")\n",
    "\n",
    "print(B+C)\n",
    "\n",
    "print(\"A\",B+C)\n",
    "\n"
   ]
  },
  {
   "cell_type": "markdown",
   "id": "91c7e122-d341-474b-a9fc-11140eef5c20",
   "metadata": {},
   "source": [
    "print(\"Hello\", \"world\", sep=\", \", end=\"!\\n\")\n",
    "# Output: Hello, world!\n"
   ]
  },
  {
   "cell_type": "markdown",
   "id": "859fc376-4101-4d4d-bcec-c8619b845938",
   "metadata": {},
   "source": [
    "with open(\"output.txt\", \"w\") as f:\n",
    "    print(\"Hello, file!\", file=f)\n",
    "# file parameter"
   ]
  },
  {
   "cell_type": "markdown",
   "id": "5afc5231-c0fa-4690-bc98-d344ec78327b",
   "metadata": {},
   "source": [
    ">>> import os\n",
    ">>> print('Hello, ' + os.getlogin() + '! How are you?')\n",
    "Hello, jdoe! How are you?"
   ]
  },
  {
   "cell_type": "code",
   "execution_count": null,
   "id": "a1fe1ddb-390a-4e39-badd-8f37b103f07b",
   "metadata": {},
   "outputs": [],
   "source": [
    ">>> print(42)                            # <class 'int'>\n",
    "42\n",
    ">>> print(3.14)                          # <class 'float'>\n",
    "3.14\n",
    ">>> print(1 + 2j)                        # <class 'complex'>\n",
    "(1+2j)\n",
    ">>> print(True)                          # <class 'bool'>\n",
    "True\n",
    ">>> print([1, 2, 3])                     # <class 'list'>\n",
    "[1, 2, 3]\n",
    ">>> print((1, 2, 3))                     # <class 'tuple'>\n",
    "(1, 2, 3)\n",
    ">>> print({'red', 'green', 'blue'})      # <class 'set'>\n",
    "{'red', 'green', 'blue'}\n",
    ">>> print({'name': 'Alice', 'age': 42})  # <class 'dict'>\n",
    "{'name': 'Alice', 'age': 42}\n",
    ">>> print('hello')                       # <class 'str'>\n",
    "hello"
   ]
  },
  {
   "cell_type": "code",
   "execution_count": null,
   "id": "5847f23c-7e3e-4537-a9cd-cdc627665345",
   "metadata": {},
   "outputs": [],
   "source": [
    ">>> print(*['jdoe is', 42, 'years old'])\n",
    "jdoe is 42 years old"
   ]
  },
  {
   "cell_type": "code",
   "execution_count": 20,
   "id": "2fdf6b5f-2f02-42a6-87b8-a772f4a056b6",
   "metadata": {},
   "outputs": [
    {
     "name": "stdout",
     "output_type": "stream",
     "text": [
      "Printing in a Nutshell\n",
      " * Calling Print\n",
      " * Separating Multiple Arguments\n",
      " * Preventing Line Breaks\n"
     ]
    }
   ],
   "source": [
    "print('Printing in a Nutshell', end='\\n * ')\n",
    "print('Calling Print', end='\\n * ')\n",
    "print('Separating Multiple Arguments', end='\\n * ')\n",
    "print('Preventing Line Breaks')"
   ]
  },
  {
   "cell_type": "code",
   "execution_count": 39,
   "id": "f6b0969f-0b8a-4e1d-ae00-35e29dc2bb1d",
   "metadata": {},
   "outputs": [],
   "source": [
    "import winsound\n",
    "frequency = 400 # Frequency in Hz (A4 note)\n",
    "duration = 1000  # Duration in milliseconds (1 second)\n",
    "winsound.Beep(frequency, duration)    "
   ]
  },
  {
   "cell_type": "code",
   "execution_count": null,
   "id": "d0801b0a-93ab-4130-ba0a-48b968bc1d34",
   "metadata": {},
   "outputs": [],
   "source": [
    "For more complex audio tasks, consider using external libraries like:\n",
    "pygame: A popular library for game development that includes sound and music capabilities.\n",
    "pydub: Allows you to manipulate audio files (e.g., play, concatenate, convert formats).\n",
    "sounddevice: For real-time audio playback and recording.\n",
    "playsound: A simple cross-platform library for playing sound files."
   ]
  },
  {
   "cell_type": "code",
   "execution_count": null,
   "id": "2c6f6197-c434-4fb2-8a82-ff937a4db252",
   "metadata": {},
   "outputs": [],
   "source": []
  },
  {
   "cell_type": "markdown",
   "id": "ded7dfd9-330e-4b85-9f5f-be02fecf710e",
   "metadata": {},
   "source": [
    "# variables"
   ]
  },
  {
   "cell_type": "markdown",
   "id": "59144b82-6d4a-4c93-a036-9ab57bc36c5f",
   "metadata": {},
   "source": [
    " ## Python, variables are containers for storing data values. Here are some key points about variables"
   ]
  },
  {
   "cell_type": "code",
   "execution_count": 30,
   "id": "024e494d-519d-4249-8800-de11227e8b04",
   "metadata": {},
   "outputs": [
    {
     "name": "stdout",
     "output_type": "stream",
     "text": [
      "1\n",
      "34.54\n",
      "(2+3j)\n",
      "dasd\n"
     ]
    }
   ],
   "source": [
    "x=1\n",
    "print(x),\n",
    "y=34.54\n",
    "print(y),\n",
    "z=2+3j\n",
    "print(z),\n",
    "\n",
    "k=\"dasd\"\n",
    "print(k)"
   ]
  },
  {
   "cell_type": "code",
   "execution_count": 33,
   "id": "c6144060-4c64-4eb2-a32a-a378dab5b1c8",
   "metadata": {},
   "outputs": [
    {
     "name": "stdout",
     "output_type": "stream",
     "text": [
      "1\n",
      "34\n",
      "(2+3j)\n",
      "dasd\n"
     ]
    }
   ],
   "source": [
    "x=1\n",
    "print(str(x)),\n",
    "y=34.54\n",
    "print(int(y)),\n",
    "z=2+3j\n",
    "print(z),\n",
    "\n",
    "k=\"dasd\"\n",
    "print(k)"
   ]
  },
  {
   "cell_type": "code",
   "execution_count": null,
   "id": "94c467ec-27af-45f2-82de-01288eabfb8f",
   "metadata": {},
   "outputs": [],
   "source": []
  }
 ],
 "metadata": {
  "kernelspec": {
   "display_name": "Python 3 (ipykernel)",
   "language": "python",
   "name": "python3"
  },
  "language_info": {
   "codemirror_mode": {
    "name": "ipython",
    "version": 3
   },
   "file_extension": ".py",
   "mimetype": "text/x-python",
   "name": "python",
   "nbconvert_exporter": "python",
   "pygments_lexer": "ipython3",
   "version": "3.12.3"
  }
 },
 "nbformat": 4,
 "nbformat_minor": 5
}
