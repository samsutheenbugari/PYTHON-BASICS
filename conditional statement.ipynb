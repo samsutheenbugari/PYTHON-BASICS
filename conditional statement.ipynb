{
 "cells": [
  {
   "cell_type": "markdown",
   "id": "140b548c-6b63-4016-840f-e859483df371",
   "metadata": {},
   "source": [
    "# chapter 3"
   ]
  },
  {
   "cell_type": "markdown",
   "id": "a5455854-14c7-4a79-a208-f60e1394b5a4",
   "metadata": {},
   "source": [
    "## input functions\n"
   ]
  },
  {
   "cell_type": "code",
   "execution_count": 4,
   "id": "e3e21445-4104-4536-96e8-778e874de0c1",
   "metadata": {},
   "outputs": [
    {
     "name": "stdin",
     "output_type": "stream",
     "text": [
      "Enter the num:  747\n",
      "Enter the num:  546\n"
     ]
    },
    {
     "data": {
      "text/plain": [
       "1293"
      ]
     },
     "execution_count": 4,
     "metadata": {},
     "output_type": "execute_result"
    }
   ],
   "source": [
    "a=int(input(\"Enter the num: \"))\n",
    "b=int(input(\"Enter the num: \"))\n",
    "sum=a+b\n",
    "sum"
   ]
  },
  {
   "cell_type": "code",
   "execution_count": 45,
   "id": "ba821dae-8471-46bc-a494-c154b7e73378",
   "metadata": {},
   "outputs": [
    {
     "name": "stdin",
     "output_type": "stream",
     "text": [
      "Enter your name:  sam\n",
      "Enter your Age:  29\n"
     ]
    }
   ],
   "source": [
    "name=input(\"Enter your name: \")\n",
    "age=int(input(\"Enter your Age: \"))\n",
    "age=age+5\n",
    "#print('Hi a  your  b years old')"
   ]
  },
  {
   "cell_type": "code",
   "execution_count": 35,
   "id": "b0840d5c-3cd8-4741-997e-dc8d59f08063",
   "metadata": {},
   "outputs": [
    {
     "ename": "TypeError",
     "evalue": "can only concatenate str (not \"int\") to str",
     "output_type": "error",
     "traceback": [
      "\u001b[1;31m---------------------------------------------------------------------------\u001b[0m",
      "\u001b[1;31mTypeError\u001b[0m                                 Traceback (most recent call last)",
      "Cell \u001b[1;32mIn[35], line 1\u001b[0m\n\u001b[1;32m----> 1\u001b[0m \u001b[38;5;28mprint\u001b[39m(\u001b[38;5;124;43m\"\u001b[39;49m\u001b[38;5;124;43mHello\u001b[39;49m\u001b[38;5;124;43m\"\u001b[39;49m\u001b[43m \u001b[49m\u001b[38;5;241;43m+\u001b[39;49m\u001b[38;5;124;43m'\u001b[39;49m\u001b[38;5;124;43mname\u001b[39;49m\u001b[38;5;124;43m'\u001b[39;49m\u001b[38;5;241;43m+\u001b[39;49m\u001b[43m \u001b[49m\u001b[38;5;124;43m\"\u001b[39;49m\u001b[38;5;124;43myourAgeis\u001b[39;49m\u001b[38;5;124;43m\"\u001b[39;49m\u001b[43m \u001b[49m\u001b[38;5;241;43m+\u001b[39;49m\u001b[43m \u001b[49m\u001b[43mage\u001b[49m)\n",
      "\u001b[1;31mTypeError\u001b[0m: can only concatenate str (not \"int\") to str"
     ]
    }
   ],
   "source": [
    "#print(\"Hello\" +'name'+ \"yourAgeis\" + age)"
   ]
  },
  {
   "cell_type": "code",
   "execution_count": 46,
   "id": "3e9ea2d5-2cf1-4a8a-bbdd-3b90987d2080",
   "metadata": {},
   "outputs": [
    {
     "name": "stdout",
     "output_type": "stream",
     "text": [
      "Hello sam yor Age is34\n"
     ]
    }
   ],
   "source": [
    "print(f\"Hello {name} yor Age is{age}\")"
   ]
  },
  {
   "cell_type": "markdown",
   "id": "b8ad9b67-0265-423c-86dd-2166f448c0cf",
   "metadata": {},
   "source": [
    "## conditional statements"
   ]
  },
  {
   "cell_type": "markdown",
   "id": "8d989025-b662-481f-9473-c23e0f04ab0a",
   "metadata": {},
   "source": [
    "### if"
   ]
  },
  {
   "cell_type": "code",
   "execution_count": 2,
   "id": "44a258a5-78d5-47e6-bfc9-9df90702f55b",
   "metadata": {},
   "outputs": [
    {
     "name": "stdin",
     "output_type": "stream",
     "text": [
      "enter your age 76\n"
     ]
    },
    {
     "name": "stdout",
     "output_type": "stream",
     "text": [
      "bye bye\n"
     ]
    }
   ],
   "source": [
    "age=int(input(\"enter your age\"))\n",
    "p_age=10\n",
    "if age<=p_age:\n",
    "    print(\"you can Enter\")\n",
    "\n",
    "print(\"bye bye\")\n"
   ]
  },
  {
   "cell_type": "markdown",
   "id": "fd1d29c8-a90a-4e38-b096-6ccebd3d6cfa",
   "metadata": {},
   "source": [
    "## if elif else"
   ]
  },
  {
   "cell_type": "code",
   "execution_count": 6,
   "id": "4a80a476-1b3f-4b4c-b19d-d5f1e20b899d",
   "metadata": {},
   "outputs": [
    {
     "name": "stdin",
     "output_type": "stream",
     "text": [
      "enter the num a 64\n",
      "enter the num b 23\n"
     ]
    },
    {
     "name": "stdout",
     "output_type": "stream",
     "text": [
      "b is smaller than a\n"
     ]
    }
   ],
   "source": [
    "a=int(input(\"enter the num a\"))\n",
    "b=int(input(\"enter the num b\"))\n",
    "if b>a:\n",
    "    print(\"b is bada num\")\n",
    "    \n",
    "elif b==a:\n",
    "    print(\"a is equal to b\")\n",
    "    \n",
    "else:\n",
    "    \n",
    "    print(\"b is smaller than a\")\n",
    "\n"
   ]
  },
  {
   "cell_type": "markdown",
   "id": "d009e027-57cd-45ff-a04a-9908c4892222",
   "metadata": {},
   "source": [
    "## nestedif "
   ]
  },
  {
   "cell_type": "code",
   "execution_count": 25,
   "id": "07c1e0af-190c-4e65-b4b2-d7325cbd4e72",
   "metadata": {},
   "outputs": [
    {
     "name": "stdin",
     "output_type": "stream",
     "text": [
      "enter the num 21\n"
     ]
    },
    {
     "name": "stdout",
     "output_type": "stream",
     "text": [
      "Great job\n"
     ]
    }
   ],
   "source": [
    "i=21\n",
    "a=int(input(\"enter the num\"))\n",
    "if a<i:\n",
    "    print(\"too low\")\n",
    "else:\n",
    "    if a>i:\n",
    "        print(\"too high\")\n",
    "    else:\n",
    "        print(\"Great job\")\n",
    "        "
   ]
  },
  {
   "cell_type": "code",
   "execution_count": null,
   "id": "3a3d5b50-cafd-4ef7-8866-e1b13132987a",
   "metadata": {},
   "outputs": [],
   "source": []
  },
  {
   "cell_type": "markdown",
   "id": "dd9efe64-d34f-4e77-9677-8decbdbc1d23",
   "metadata": {},
   "source": [
    "## while loop"
   ]
  },
  {
   "cell_type": "code",
   "execution_count": 34,
   "id": "dcd3082c-474e-4f02-8dd5-415684eb9733",
   "metadata": {},
   "outputs": [
    {
     "name": "stdout",
     "output_type": "stream",
     "text": [
      "hello\n",
      "0\n",
      "hello\n",
      "1\n",
      "hello\n",
      "2\n",
      "hello\n",
      "3\n",
      "hello\n",
      "4\n",
      "hello\n",
      "5\n"
     ]
    }
   ],
   "source": [
    "i=0\n",
    "while i<6:\n",
    "    print(\"hello\")\n",
    "    print(i)\n",
    "    i+=1"
   ]
  },
  {
   "cell_type": "markdown",
   "id": "35455675-49da-40a6-beff-5c76d1903c3f",
   "metadata": {},
   "source": [
    "## for loop"
   ]
  },
  {
   "cell_type": "code",
   "execution_count": 35,
   "id": "40cb6a43-ba67-4641-b320-d095c81bd292",
   "metadata": {},
   "outputs": [
    {
     "name": "stdout",
     "output_type": "stream",
     "text": [
      "ram\n",
      "sam\n",
      "jim\n"
     ]
    }
   ],
   "source": [
    "Name=[\"ram\",\"sam\",\"jim\"]\n",
    "\n",
    "for a in Name:\n",
    "    print(a)"
   ]
  },
  {
   "cell_type": "code",
   "execution_count": null,
   "id": "be9518d7-1fbe-465d-bb53-c1c93ca6368c",
   "metadata": {},
   "outputs": [],
   "source": []
  },
  {
   "cell_type": "code",
   "execution_count": null,
   "id": "9e7a55dc-1608-46b4-958e-ed03cff6d5dc",
   "metadata": {},
   "outputs": [],
   "source": []
  },
  {
   "cell_type": "code",
   "execution_count": null,
   "id": "0d7b5127-4d09-4c37-abff-41bfd01040cd",
   "metadata": {},
   "outputs": [],
   "source": []
  },
  {
   "cell_type": "code",
   "execution_count": null,
   "id": "03d737f1-cc62-44ab-a527-b4d932f89b07",
   "metadata": {},
   "outputs": [],
   "source": []
  }
 ],
 "metadata": {
  "kernelspec": {
   "display_name": "Python 3 (ipykernel)",
   "language": "python",
   "name": "python3"
  },
  "language_info": {
   "codemirror_mode": {
    "name": "ipython",
    "version": 3
   },
   "file_extension": ".py",
   "mimetype": "text/x-python",
   "name": "python",
   "nbconvert_exporter": "python",
   "pygments_lexer": "ipython3",
   "version": "3.12.3"
  }
 },
 "nbformat": 4,
 "nbformat_minor": 5
}
